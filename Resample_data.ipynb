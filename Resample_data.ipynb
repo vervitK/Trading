{
 "cells": [
  {
   "cell_type": "code",
   "execution_count": null,
   "metadata": {},
   "outputs": [],
   "source": [
    "# Import necessary libraries\n",
    "import time\n",
    "import datetime\n",
    "import numpy as np\n",
    "import pandas as pd\n",
    "from copy import deepcopy\n",
    "import glob\n",
    "import warnings\n",
    "\n",
    "# Ignore warnings for cleaner output\n",
    "warnings.filterwarnings(\"ignore\")\n",
    "\n",
    "# Set pandas options to display all columns\n",
    "pd.set_option('display.max_columns', None)\n",
    "\n",
    "# Path to save the resampled data\n",
    "path_to_save_data = r'D:\\PythonProject\\Trading\\R Data test\\Resample Data\\5min'\n",
    "\n",
    "# Path to read original data using glob for multiple files\n",
    "path = fr'D:\\PythonProject\\Trading\\R Data test\\NIfty5002016-01-01to2023-10-23\\**'\n",
    "\n",
    "# Get a list of file paths and create a DataFrame to store them\n",
    "files_df = pd.DataFrame(glob.glob(path), columns=['File_path'])\n",
    "\n",
    "# Extract the file name from the file path\n",
    "files_df['File_Name'] = files_df['File_path'].apply(lambda x: x.split('\\\\')[-1].split(\".\")[0])\n",
    "\n",
    "# Loop through each file path in the DataFrame\n",
    "for i, s_name in files_df[1:].iterrows():\n",
    "    file_path = s_name['File_path']  # Get the file path\n",
    "    ticker = s_name['File_Name']  # Get the file name (ticker symbol)\n",
    "\n",
    "    # Read the CSV file into a pandas DataFrame\n",
    "    df = pd.read_csv(file_path)\n",
    "\n",
    "    # Combine 'Date' and 'TIME1' columns and convert it to datetime format\n",
    "    df['Datetime'] = pd.to_datetime(df['Date'] + ' ' + df['TIME1'], format=\"%Y-%m-%d %H:%M:%S\")\n",
    "    df.set_index('Datetime', inplace=True)  # Set the Datetime column as the index\n",
    "\n",
    "    # Resample the data to 5-minute intervals, aggregating OHLCV values\n",
    "    resample = df.resample(\"5T\").agg({\n",
    "        \"Open\": \"first\",\n",
    "        \"High\": \"max\",\n",
    "        \"Low\": \"min\",\n",
    "        \"CLOSE\": \"last\",\n",
    "        \"VOLUME\": \"sum\"\n",
    "    }).between_time('09:15:00', '15:25:00').dropna()  # Filter data between market hours and remove NaN values\n",
    "\n",
    "    resample = resample.reset_index()  # Reset the index\n",
    "    resample.columns = ['Datetime', 'Open', 'High', 'Low', 'Close', 'Volume']  # Rename columns for consistency\n",
    "\n",
    "    # Define the file save path for the resampled data\n",
    "    file_save_path = f\"{path_to_save_data}\\\\{ticker}.csv\"\n",
    "\n",
    "    # Save the resampled data to a CSV file without index\n",
    "    resample.to_csv(file_save_path, index=False)\n"
   ]
  }
 ],
 "metadata": {
  "kernelspec": {
   "display_name": ".venv",
   "language": "python",
   "name": "python3"
  },
  "language_info": {
   "codemirror_mode": {
    "name": "ipython",
    "version": 3
   },
   "file_extension": ".py",
   "mimetype": "text/x-python",
   "name": "python",
   "nbconvert_exporter": "python",
   "pygments_lexer": "ipython3",
   "version": "3.7.9"
  }
 },
 "nbformat": 4,
 "nbformat_minor": 2
}
